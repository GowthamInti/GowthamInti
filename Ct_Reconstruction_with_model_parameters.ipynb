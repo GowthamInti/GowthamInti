{
  "nbformat": 4,
  "nbformat_minor": 0,
  "metadata": {
    "colab": {
      "name": "Ct_Reconstruction_with_model_parameters.ipynb",
      "provenance": [],
      "collapsed_sections": [],
      "authorship_tag": "ABX9TyMLAgHqj2kCD/x/VTTZHlZj",
      "include_colab_link": true
    },
    "kernelspec": {
      "name": "python3",
      "display_name": "Python 3"
    },
    "language_info": {
      "name": "python"
    },
    "accelerator": "GPU",
    "widgets": {
      "application/vnd.jupyter.widget-state+json": {
        "2bf51793decf4bfbb788e9317fb72aaf": {
          "model_module": "@jupyter-widgets/controls",
          "model_name": "HBoxModel",
          "model_module_version": "1.5.0",
          "state": {
            "_dom_classes": [],
            "_model_module": "@jupyter-widgets/controls",
            "_model_module_version": "1.5.0",
            "_model_name": "HBoxModel",
            "_view_count": null,
            "_view_module": "@jupyter-widgets/controls",
            "_view_module_version": "1.5.0",
            "_view_name": "HBoxView",
            "box_style": "",
            "children": [
              "IPY_MODEL_c7f218dd4392442abf831f5c306d3e5f",
              "IPY_MODEL_2ab718ea6c1b452f9a9105b05ba2c4d3",
              "IPY_MODEL_a0bc9e0192ac4a3ab5a628803f5bfd9e"
            ],
            "layout": "IPY_MODEL_dce9cf544a4d4851bc4770d5bae6812c"
          }
        },
        "c7f218dd4392442abf831f5c306d3e5f": {
          "model_module": "@jupyter-widgets/controls",
          "model_name": "HTMLModel",
          "model_module_version": "1.5.0",
          "state": {
            "_dom_classes": [],
            "_model_module": "@jupyter-widgets/controls",
            "_model_module_version": "1.5.0",
            "_model_name": "HTMLModel",
            "_view_count": null,
            "_view_module": "@jupyter-widgets/controls",
            "_view_module_version": "1.5.0",
            "_view_name": "HTMLView",
            "description": "",
            "description_tooltip": null,
            "layout": "IPY_MODEL_0f099fd36cca4d0491cb515dc59546ed",
            "placeholder": "​",
            "style": "IPY_MODEL_a6dfdb252bb34cb29de3c500b87462a8",
            "value": ""
          }
        },
        "2ab718ea6c1b452f9a9105b05ba2c4d3": {
          "model_module": "@jupyter-widgets/controls",
          "model_name": "FloatProgressModel",
          "model_module_version": "1.5.0",
          "state": {
            "_dom_classes": [],
            "_model_module": "@jupyter-widgets/controls",
            "_model_module_version": "1.5.0",
            "_model_name": "FloatProgressModel",
            "_view_count": null,
            "_view_module": "@jupyter-widgets/controls",
            "_view_module_version": "1.5.0",
            "_view_name": "ProgressView",
            "bar_style": "success",
            "description": "",
            "description_tooltip": null,
            "layout": "IPY_MODEL_ce1ebce5828d44e4bf251b5fabb84cc4",
            "max": 9912422,
            "min": 0,
            "orientation": "horizontal",
            "style": "IPY_MODEL_d26031a58af3405a8692c967e51532a2",
            "value": 9912422
          }
        },
        "a0bc9e0192ac4a3ab5a628803f5bfd9e": {
          "model_module": "@jupyter-widgets/controls",
          "model_name": "HTMLModel",
          "model_module_version": "1.5.0",
          "state": {
            "_dom_classes": [],
            "_model_module": "@jupyter-widgets/controls",
            "_model_module_version": "1.5.0",
            "_model_name": "HTMLModel",
            "_view_count": null,
            "_view_module": "@jupyter-widgets/controls",
            "_view_module_version": "1.5.0",
            "_view_name": "HTMLView",
            "description": "",
            "description_tooltip": null,
            "layout": "IPY_MODEL_b53f2fc42da74b119d0c90255c5596ee",
            "placeholder": "​",
            "style": "IPY_MODEL_898b57a516404e96bdeb5ecb894e9558",
            "value": " 9913344/? [00:00&lt;00:00, 24626812.48it/s]"
          }
        },
        "dce9cf544a4d4851bc4770d5bae6812c": {
          "model_module": "@jupyter-widgets/base",
          "model_name": "LayoutModel",
          "model_module_version": "1.2.0",
          "state": {
            "_model_module": "@jupyter-widgets/base",
            "_model_module_version": "1.2.0",
            "_model_name": "LayoutModel",
            "_view_count": null,
            "_view_module": "@jupyter-widgets/base",
            "_view_module_version": "1.2.0",
            "_view_name": "LayoutView",
            "align_content": null,
            "align_items": null,
            "align_self": null,
            "border": null,
            "bottom": null,
            "display": null,
            "flex": null,
            "flex_flow": null,
            "grid_area": null,
            "grid_auto_columns": null,
            "grid_auto_flow": null,
            "grid_auto_rows": null,
            "grid_column": null,
            "grid_gap": null,
            "grid_row": null,
            "grid_template_areas": null,
            "grid_template_columns": null,
            "grid_template_rows": null,
            "height": null,
            "justify_content": null,
            "justify_items": null,
            "left": null,
            "margin": null,
            "max_height": null,
            "max_width": null,
            "min_height": null,
            "min_width": null,
            "object_fit": null,
            "object_position": null,
            "order": null,
            "overflow": null,
            "overflow_x": null,
            "overflow_y": null,
            "padding": null,
            "right": null,
            "top": null,
            "visibility": null,
            "width": null
          }
        },
        "0f099fd36cca4d0491cb515dc59546ed": {
          "model_module": "@jupyter-widgets/base",
          "model_name": "LayoutModel",
          "model_module_version": "1.2.0",
          "state": {
            "_model_module": "@jupyter-widgets/base",
            "_model_module_version": "1.2.0",
            "_model_name": "LayoutModel",
            "_view_count": null,
            "_view_module": "@jupyter-widgets/base",
            "_view_module_version": "1.2.0",
            "_view_name": "LayoutView",
            "align_content": null,
            "align_items": null,
            "align_self": null,
            "border": null,
            "bottom": null,
            "display": null,
            "flex": null,
            "flex_flow": null,
            "grid_area": null,
            "grid_auto_columns": null,
            "grid_auto_flow": null,
            "grid_auto_rows": null,
            "grid_column": null,
            "grid_gap": null,
            "grid_row": null,
            "grid_template_areas": null,
            "grid_template_columns": null,
            "grid_template_rows": null,
            "height": null,
            "justify_content": null,
            "justify_items": null,
            "left": null,
            "margin": null,
            "max_height": null,
            "max_width": null,
            "min_height": null,
            "min_width": null,
            "object_fit": null,
            "object_position": null,
            "order": null,
            "overflow": null,
            "overflow_x": null,
            "overflow_y": null,
            "padding": null,
            "right": null,
            "top": null,
            "visibility": null,
            "width": null
          }
        },
        "a6dfdb252bb34cb29de3c500b87462a8": {
          "model_module": "@jupyter-widgets/controls",
          "model_name": "DescriptionStyleModel",
          "model_module_version": "1.5.0",
          "state": {
            "_model_module": "@jupyter-widgets/controls",
            "_model_module_version": "1.5.0",
            "_model_name": "DescriptionStyleModel",
            "_view_count": null,
            "_view_module": "@jupyter-widgets/base",
            "_view_module_version": "1.2.0",
            "_view_name": "StyleView",
            "description_width": ""
          }
        },
        "ce1ebce5828d44e4bf251b5fabb84cc4": {
          "model_module": "@jupyter-widgets/base",
          "model_name": "LayoutModel",
          "model_module_version": "1.2.0",
          "state": {
            "_model_module": "@jupyter-widgets/base",
            "_model_module_version": "1.2.0",
            "_model_name": "LayoutModel",
            "_view_count": null,
            "_view_module": "@jupyter-widgets/base",
            "_view_module_version": "1.2.0",
            "_view_name": "LayoutView",
            "align_content": null,
            "align_items": null,
            "align_self": null,
            "border": null,
            "bottom": null,
            "display": null,
            "flex": null,
            "flex_flow": null,
            "grid_area": null,
            "grid_auto_columns": null,
            "grid_auto_flow": null,
            "grid_auto_rows": null,
            "grid_column": null,
            "grid_gap": null,
            "grid_row": null,
            "grid_template_areas": null,
            "grid_template_columns": null,
            "grid_template_rows": null,
            "height": null,
            "justify_content": null,
            "justify_items": null,
            "left": null,
            "margin": null,
            "max_height": null,
            "max_width": null,
            "min_height": null,
            "min_width": null,
            "object_fit": null,
            "object_position": null,
            "order": null,
            "overflow": null,
            "overflow_x": null,
            "overflow_y": null,
            "padding": null,
            "right": null,
            "top": null,
            "visibility": null,
            "width": null
          }
        },
        "d26031a58af3405a8692c967e51532a2": {
          "model_module": "@jupyter-widgets/controls",
          "model_name": "ProgressStyleModel",
          "model_module_version": "1.5.0",
          "state": {
            "_model_module": "@jupyter-widgets/controls",
            "_model_module_version": "1.5.0",
            "_model_name": "ProgressStyleModel",
            "_view_count": null,
            "_view_module": "@jupyter-widgets/base",
            "_view_module_version": "1.2.0",
            "_view_name": "StyleView",
            "bar_color": null,
            "description_width": ""
          }
        },
        "b53f2fc42da74b119d0c90255c5596ee": {
          "model_module": "@jupyter-widgets/base",
          "model_name": "LayoutModel",
          "model_module_version": "1.2.0",
          "state": {
            "_model_module": "@jupyter-widgets/base",
            "_model_module_version": "1.2.0",
            "_model_name": "LayoutModel",
            "_view_count": null,
            "_view_module": "@jupyter-widgets/base",
            "_view_module_version": "1.2.0",
            "_view_name": "LayoutView",
            "align_content": null,
            "align_items": null,
            "align_self": null,
            "border": null,
            "bottom": null,
            "display": null,
            "flex": null,
            "flex_flow": null,
            "grid_area": null,
            "grid_auto_columns": null,
            "grid_auto_flow": null,
            "grid_auto_rows": null,
            "grid_column": null,
            "grid_gap": null,
            "grid_row": null,
            "grid_template_areas": null,
            "grid_template_columns": null,
            "grid_template_rows": null,
            "height": null,
            "justify_content": null,
            "justify_items": null,
            "left": null,
            "margin": null,
            "max_height": null,
            "max_width": null,
            "min_height": null,
            "min_width": null,
            "object_fit": null,
            "object_position": null,
            "order": null,
            "overflow": null,
            "overflow_x": null,
            "overflow_y": null,
            "padding": null,
            "right": null,
            "top": null,
            "visibility": null,
            "width": null
          }
        },
        "898b57a516404e96bdeb5ecb894e9558": {
          "model_module": "@jupyter-widgets/controls",
          "model_name": "DescriptionStyleModel",
          "model_module_version": "1.5.0",
          "state": {
            "_model_module": "@jupyter-widgets/controls",
            "_model_module_version": "1.5.0",
            "_model_name": "DescriptionStyleModel",
            "_view_count": null,
            "_view_module": "@jupyter-widgets/base",
            "_view_module_version": "1.2.0",
            "_view_name": "StyleView",
            "description_width": ""
          }
        },
        "08002c06671a4d8c8a9922765d0d589a": {
          "model_module": "@jupyter-widgets/controls",
          "model_name": "HBoxModel",
          "model_module_version": "1.5.0",
          "state": {
            "_dom_classes": [],
            "_model_module": "@jupyter-widgets/controls",
            "_model_module_version": "1.5.0",
            "_model_name": "HBoxModel",
            "_view_count": null,
            "_view_module": "@jupyter-widgets/controls",
            "_view_module_version": "1.5.0",
            "_view_name": "HBoxView",
            "box_style": "",
            "children": [
              "IPY_MODEL_d6cf6b0a3aed49ba86758724cb0a37a2",
              "IPY_MODEL_5c1c38bd29a741778af85a4a608cd222",
              "IPY_MODEL_c074056b8f0e4ed3a2699fe94b764b26"
            ],
            "layout": "IPY_MODEL_99d2aefc949749b9936e6cf6da975ef9"
          }
        },
        "d6cf6b0a3aed49ba86758724cb0a37a2": {
          "model_module": "@jupyter-widgets/controls",
          "model_name": "HTMLModel",
          "model_module_version": "1.5.0",
          "state": {
            "_dom_classes": [],
            "_model_module": "@jupyter-widgets/controls",
            "_model_module_version": "1.5.0",
            "_model_name": "HTMLModel",
            "_view_count": null,
            "_view_module": "@jupyter-widgets/controls",
            "_view_module_version": "1.5.0",
            "_view_name": "HTMLView",
            "description": "",
            "description_tooltip": null,
            "layout": "IPY_MODEL_018cbe94f63c4087b07b621607abb672",
            "placeholder": "​",
            "style": "IPY_MODEL_c1915d15a8aa4135831768d0769c5095",
            "value": ""
          }
        },
        "5c1c38bd29a741778af85a4a608cd222": {
          "model_module": "@jupyter-widgets/controls",
          "model_name": "FloatProgressModel",
          "model_module_version": "1.5.0",
          "state": {
            "_dom_classes": [],
            "_model_module": "@jupyter-widgets/controls",
            "_model_module_version": "1.5.0",
            "_model_name": "FloatProgressModel",
            "_view_count": null,
            "_view_module": "@jupyter-widgets/controls",
            "_view_module_version": "1.5.0",
            "_view_name": "ProgressView",
            "bar_style": "success",
            "description": "",
            "description_tooltip": null,
            "layout": "IPY_MODEL_ad3abb6f759a4351a3fa26963ea765a8",
            "max": 28881,
            "min": 0,
            "orientation": "horizontal",
            "style": "IPY_MODEL_e6d0fbdc379e481b8d2815e923e9e138",
            "value": 28881
          }
        },
        "c074056b8f0e4ed3a2699fe94b764b26": {
          "model_module": "@jupyter-widgets/controls",
          "model_name": "HTMLModel",
          "model_module_version": "1.5.0",
          "state": {
            "_dom_classes": [],
            "_model_module": "@jupyter-widgets/controls",
            "_model_module_version": "1.5.0",
            "_model_name": "HTMLModel",
            "_view_count": null,
            "_view_module": "@jupyter-widgets/controls",
            "_view_module_version": "1.5.0",
            "_view_name": "HTMLView",
            "description": "",
            "description_tooltip": null,
            "layout": "IPY_MODEL_807aa9bb8c80440a9560f268bd1353e8",
            "placeholder": "​",
            "style": "IPY_MODEL_82d7baaafb534df3a711c529be109b0c",
            "value": " 29696/? [00:00&lt;00:00, 1186895.99it/s]"
          }
        },
        "99d2aefc949749b9936e6cf6da975ef9": {
          "model_module": "@jupyter-widgets/base",
          "model_name": "LayoutModel",
          "model_module_version": "1.2.0",
          "state": {
            "_model_module": "@jupyter-widgets/base",
            "_model_module_version": "1.2.0",
            "_model_name": "LayoutModel",
            "_view_count": null,
            "_view_module": "@jupyter-widgets/base",
            "_view_module_version": "1.2.0",
            "_view_name": "LayoutView",
            "align_content": null,
            "align_items": null,
            "align_self": null,
            "border": null,
            "bottom": null,
            "display": null,
            "flex": null,
            "flex_flow": null,
            "grid_area": null,
            "grid_auto_columns": null,
            "grid_auto_flow": null,
            "grid_auto_rows": null,
            "grid_column": null,
            "grid_gap": null,
            "grid_row": null,
            "grid_template_areas": null,
            "grid_template_columns": null,
            "grid_template_rows": null,
            "height": null,
            "justify_content": null,
            "justify_items": null,
            "left": null,
            "margin": null,
            "max_height": null,
            "max_width": null,
            "min_height": null,
            "min_width": null,
            "object_fit": null,
            "object_position": null,
            "order": null,
            "overflow": null,
            "overflow_x": null,
            "overflow_y": null,
            "padding": null,
            "right": null,
            "top": null,
            "visibility": null,
            "width": null
          }
        },
        "018cbe94f63c4087b07b621607abb672": {
          "model_module": "@jupyter-widgets/base",
          "model_name": "LayoutModel",
          "model_module_version": "1.2.0",
          "state": {
            "_model_module": "@jupyter-widgets/base",
            "_model_module_version": "1.2.0",
            "_model_name": "LayoutModel",
            "_view_count": null,
            "_view_module": "@jupyter-widgets/base",
            "_view_module_version": "1.2.0",
            "_view_name": "LayoutView",
            "align_content": null,
            "align_items": null,
            "align_self": null,
            "border": null,
            "bottom": null,
            "display": null,
            "flex": null,
            "flex_flow": null,
            "grid_area": null,
            "grid_auto_columns": null,
            "grid_auto_flow": null,
            "grid_auto_rows": null,
            "grid_column": null,
            "grid_gap": null,
            "grid_row": null,
            "grid_template_areas": null,
            "grid_template_columns": null,
            "grid_template_rows": null,
            "height": null,
            "justify_content": null,
            "justify_items": null,
            "left": null,
            "margin": null,
            "max_height": null,
            "max_width": null,
            "min_height": null,
            "min_width": null,
            "object_fit": null,
            "object_position": null,
            "order": null,
            "overflow": null,
            "overflow_x": null,
            "overflow_y": null,
            "padding": null,
            "right": null,
            "top": null,
            "visibility": null,
            "width": null
          }
        },
        "c1915d15a8aa4135831768d0769c5095": {
          "model_module": "@jupyter-widgets/controls",
          "model_name": "DescriptionStyleModel",
          "model_module_version": "1.5.0",
          "state": {
            "_model_module": "@jupyter-widgets/controls",
            "_model_module_version": "1.5.0",
            "_model_name": "DescriptionStyleModel",
            "_view_count": null,
            "_view_module": "@jupyter-widgets/base",
            "_view_module_version": "1.2.0",
            "_view_name": "StyleView",
            "description_width": ""
          }
        },
        "ad3abb6f759a4351a3fa26963ea765a8": {
          "model_module": "@jupyter-widgets/base",
          "model_name": "LayoutModel",
          "model_module_version": "1.2.0",
          "state": {
            "_model_module": "@jupyter-widgets/base",
            "_model_module_version": "1.2.0",
            "_model_name": "LayoutModel",
            "_view_count": null,
            "_view_module": "@jupyter-widgets/base",
            "_view_module_version": "1.2.0",
            "_view_name": "LayoutView",
            "align_content": null,
            "align_items": null,
            "align_self": null,
            "border": null,
            "bottom": null,
            "display": null,
            "flex": null,
            "flex_flow": null,
            "grid_area": null,
            "grid_auto_columns": null,
            "grid_auto_flow": null,
            "grid_auto_rows": null,
            "grid_column": null,
            "grid_gap": null,
            "grid_row": null,
            "grid_template_areas": null,
            "grid_template_columns": null,
            "grid_template_rows": null,
            "height": null,
            "justify_content": null,
            "justify_items": null,
            "left": null,
            "margin": null,
            "max_height": null,
            "max_width": null,
            "min_height": null,
            "min_width": null,
            "object_fit": null,
            "object_position": null,
            "order": null,
            "overflow": null,
            "overflow_x": null,
            "overflow_y": null,
            "padding": null,
            "right": null,
            "top": null,
            "visibility": null,
            "width": null
          }
        },
        "e6d0fbdc379e481b8d2815e923e9e138": {
          "model_module": "@jupyter-widgets/controls",
          "model_name": "ProgressStyleModel",
          "model_module_version": "1.5.0",
          "state": {
            "_model_module": "@jupyter-widgets/controls",
            "_model_module_version": "1.5.0",
            "_model_name": "ProgressStyleModel",
            "_view_count": null,
            "_view_module": "@jupyter-widgets/base",
            "_view_module_version": "1.2.0",
            "_view_name": "StyleView",
            "bar_color": null,
            "description_width": ""
          }
        },
        "807aa9bb8c80440a9560f268bd1353e8": {
          "model_module": "@jupyter-widgets/base",
          "model_name": "LayoutModel",
          "model_module_version": "1.2.0",
          "state": {
            "_model_module": "@jupyter-widgets/base",
            "_model_module_version": "1.2.0",
            "_model_name": "LayoutModel",
            "_view_count": null,
            "_view_module": "@jupyter-widgets/base",
            "_view_module_version": "1.2.0",
            "_view_name": "LayoutView",
            "align_content": null,
            "align_items": null,
            "align_self": null,
            "border": null,
            "bottom": null,
            "display": null,
            "flex": null,
            "flex_flow": null,
            "grid_area": null,
            "grid_auto_columns": null,
            "grid_auto_flow": null,
            "grid_auto_rows": null,
            "grid_column": null,
            "grid_gap": null,
            "grid_row": null,
            "grid_template_areas": null,
            "grid_template_columns": null,
            "grid_template_rows": null,
            "height": null,
            "justify_content": null,
            "justify_items": null,
            "left": null,
            "margin": null,
            "max_height": null,
            "max_width": null,
            "min_height": null,
            "min_width": null,
            "object_fit": null,
            "object_position": null,
            "order": null,
            "overflow": null,
            "overflow_x": null,
            "overflow_y": null,
            "padding": null,
            "right": null,
            "top": null,
            "visibility": null,
            "width": null
          }
        },
        "82d7baaafb534df3a711c529be109b0c": {
          "model_module": "@jupyter-widgets/controls",
          "model_name": "DescriptionStyleModel",
          "model_module_version": "1.5.0",
          "state": {
            "_model_module": "@jupyter-widgets/controls",
            "_model_module_version": "1.5.0",
            "_model_name": "DescriptionStyleModel",
            "_view_count": null,
            "_view_module": "@jupyter-widgets/base",
            "_view_module_version": "1.2.0",
            "_view_name": "StyleView",
            "description_width": ""
          }
        },
        "8d1f0321684641d8b930d9d828c55423": {
          "model_module": "@jupyter-widgets/controls",
          "model_name": "HBoxModel",
          "model_module_version": "1.5.0",
          "state": {
            "_dom_classes": [],
            "_model_module": "@jupyter-widgets/controls",
            "_model_module_version": "1.5.0",
            "_model_name": "HBoxModel",
            "_view_count": null,
            "_view_module": "@jupyter-widgets/controls",
            "_view_module_version": "1.5.0",
            "_view_name": "HBoxView",
            "box_style": "",
            "children": [
              "IPY_MODEL_e199f81dd494416b87364c854e0b9331",
              "IPY_MODEL_122538d318444aceb537f96e16126f3e",
              "IPY_MODEL_f3c491e8a1414504a310204dcbd3c2c1"
            ],
            "layout": "IPY_MODEL_6f9d43f20cf4419ead67a5964732e354"
          }
        },
        "e199f81dd494416b87364c854e0b9331": {
          "model_module": "@jupyter-widgets/controls",
          "model_name": "HTMLModel",
          "model_module_version": "1.5.0",
          "state": {
            "_dom_classes": [],
            "_model_module": "@jupyter-widgets/controls",
            "_model_module_version": "1.5.0",
            "_model_name": "HTMLModel",
            "_view_count": null,
            "_view_module": "@jupyter-widgets/controls",
            "_view_module_version": "1.5.0",
            "_view_name": "HTMLView",
            "description": "",
            "description_tooltip": null,
            "layout": "IPY_MODEL_7a1520b05a5f497a9c41512df238f111",
            "placeholder": "​",
            "style": "IPY_MODEL_26c44b01fb234a98a2c697e8339b4ae4",
            "value": ""
          }
        },
        "122538d318444aceb537f96e16126f3e": {
          "model_module": "@jupyter-widgets/controls",
          "model_name": "FloatProgressModel",
          "model_module_version": "1.5.0",
          "state": {
            "_dom_classes": [],
            "_model_module": "@jupyter-widgets/controls",
            "_model_module_version": "1.5.0",
            "_model_name": "FloatProgressModel",
            "_view_count": null,
            "_view_module": "@jupyter-widgets/controls",
            "_view_module_version": "1.5.0",
            "_view_name": "ProgressView",
            "bar_style": "success",
            "description": "",
            "description_tooltip": null,
            "layout": "IPY_MODEL_913d6bb30ec347ad9fcc8bc0d329d89a",
            "max": 1648877,
            "min": 0,
            "orientation": "horizontal",
            "style": "IPY_MODEL_4e189fb2e6fa4ed1990b10c9bfefb842",
            "value": 1648877
          }
        },
        "f3c491e8a1414504a310204dcbd3c2c1": {
          "model_module": "@jupyter-widgets/controls",
          "model_name": "HTMLModel",
          "model_module_version": "1.5.0",
          "state": {
            "_dom_classes": [],
            "_model_module": "@jupyter-widgets/controls",
            "_model_module_version": "1.5.0",
            "_model_name": "HTMLModel",
            "_view_count": null,
            "_view_module": "@jupyter-widgets/controls",
            "_view_module_version": "1.5.0",
            "_view_name": "HTMLView",
            "description": "",
            "description_tooltip": null,
            "layout": "IPY_MODEL_6f3fc00e28214d33a8062213ac83e4e2",
            "placeholder": "​",
            "style": "IPY_MODEL_7bca0092c2e742e38987b654a29a2a3e",
            "value": " 1649664/? [00:00&lt;00:00, 20215596.79it/s]"
          }
        },
        "6f9d43f20cf4419ead67a5964732e354": {
          "model_module": "@jupyter-widgets/base",
          "model_name": "LayoutModel",
          "model_module_version": "1.2.0",
          "state": {
            "_model_module": "@jupyter-widgets/base",
            "_model_module_version": "1.2.0",
            "_model_name": "LayoutModel",
            "_view_count": null,
            "_view_module": "@jupyter-widgets/base",
            "_view_module_version": "1.2.0",
            "_view_name": "LayoutView",
            "align_content": null,
            "align_items": null,
            "align_self": null,
            "border": null,
            "bottom": null,
            "display": null,
            "flex": null,
            "flex_flow": null,
            "grid_area": null,
            "grid_auto_columns": null,
            "grid_auto_flow": null,
            "grid_auto_rows": null,
            "grid_column": null,
            "grid_gap": null,
            "grid_row": null,
            "grid_template_areas": null,
            "grid_template_columns": null,
            "grid_template_rows": null,
            "height": null,
            "justify_content": null,
            "justify_items": null,
            "left": null,
            "margin": null,
            "max_height": null,
            "max_width": null,
            "min_height": null,
            "min_width": null,
            "object_fit": null,
            "object_position": null,
            "order": null,
            "overflow": null,
            "overflow_x": null,
            "overflow_y": null,
            "padding": null,
            "right": null,
            "top": null,
            "visibility": null,
            "width": null
          }
        },
        "7a1520b05a5f497a9c41512df238f111": {
          "model_module": "@jupyter-widgets/base",
          "model_name": "LayoutModel",
          "model_module_version": "1.2.0",
          "state": {
            "_model_module": "@jupyter-widgets/base",
            "_model_module_version": "1.2.0",
            "_model_name": "LayoutModel",
            "_view_count": null,
            "_view_module": "@jupyter-widgets/base",
            "_view_module_version": "1.2.0",
            "_view_name": "LayoutView",
            "align_content": null,
            "align_items": null,
            "align_self": null,
            "border": null,
            "bottom": null,
            "display": null,
            "flex": null,
            "flex_flow": null,
            "grid_area": null,
            "grid_auto_columns": null,
            "grid_auto_flow": null,
            "grid_auto_rows": null,
            "grid_column": null,
            "grid_gap": null,
            "grid_row": null,
            "grid_template_areas": null,
            "grid_template_columns": null,
            "grid_template_rows": null,
            "height": null,
            "justify_content": null,
            "justify_items": null,
            "left": null,
            "margin": null,
            "max_height": null,
            "max_width": null,
            "min_height": null,
            "min_width": null,
            "object_fit": null,
            "object_position": null,
            "order": null,
            "overflow": null,
            "overflow_x": null,
            "overflow_y": null,
            "padding": null,
            "right": null,
            "top": null,
            "visibility": null,
            "width": null
          }
        },
        "26c44b01fb234a98a2c697e8339b4ae4": {
          "model_module": "@jupyter-widgets/controls",
          "model_name": "DescriptionStyleModel",
          "model_module_version": "1.5.0",
          "state": {
            "_model_module": "@jupyter-widgets/controls",
            "_model_module_version": "1.5.0",
            "_model_name": "DescriptionStyleModel",
            "_view_count": null,
            "_view_module": "@jupyter-widgets/base",
            "_view_module_version": "1.2.0",
            "_view_name": "StyleView",
            "description_width": ""
          }
        },
        "913d6bb30ec347ad9fcc8bc0d329d89a": {
          "model_module": "@jupyter-widgets/base",
          "model_name": "LayoutModel",
          "model_module_version": "1.2.0",
          "state": {
            "_model_module": "@jupyter-widgets/base",
            "_model_module_version": "1.2.0",
            "_model_name": "LayoutModel",
            "_view_count": null,
            "_view_module": "@jupyter-widgets/base",
            "_view_module_version": "1.2.0",
            "_view_name": "LayoutView",
            "align_content": null,
            "align_items": null,
            "align_self": null,
            "border": null,
            "bottom": null,
            "display": null,
            "flex": null,
            "flex_flow": null,
            "grid_area": null,
            "grid_auto_columns": null,
            "grid_auto_flow": null,
            "grid_auto_rows": null,
            "grid_column": null,
            "grid_gap": null,
            "grid_row": null,
            "grid_template_areas": null,
            "grid_template_columns": null,
            "grid_template_rows": null,
            "height": null,
            "justify_content": null,
            "justify_items": null,
            "left": null,
            "margin": null,
            "max_height": null,
            "max_width": null,
            "min_height": null,
            "min_width": null,
            "object_fit": null,
            "object_position": null,
            "order": null,
            "overflow": null,
            "overflow_x": null,
            "overflow_y": null,
            "padding": null,
            "right": null,
            "top": null,
            "visibility": null,
            "width": null
          }
        },
        "4e189fb2e6fa4ed1990b10c9bfefb842": {
          "model_module": "@jupyter-widgets/controls",
          "model_name": "ProgressStyleModel",
          "model_module_version": "1.5.0",
          "state": {
            "_model_module": "@jupyter-widgets/controls",
            "_model_module_version": "1.5.0",
            "_model_name": "ProgressStyleModel",
            "_view_count": null,
            "_view_module": "@jupyter-widgets/base",
            "_view_module_version": "1.2.0",
            "_view_name": "StyleView",
            "bar_color": null,
            "description_width": ""
          }
        },
        "6f3fc00e28214d33a8062213ac83e4e2": {
          "model_module": "@jupyter-widgets/base",
          "model_name": "LayoutModel",
          "model_module_version": "1.2.0",
          "state": {
            "_model_module": "@jupyter-widgets/base",
            "_model_module_version": "1.2.0",
            "_model_name": "LayoutModel",
            "_view_count": null,
            "_view_module": "@jupyter-widgets/base",
            "_view_module_version": "1.2.0",
            "_view_name": "LayoutView",
            "align_content": null,
            "align_items": null,
            "align_self": null,
            "border": null,
            "bottom": null,
            "display": null,
            "flex": null,
            "flex_flow": null,
            "grid_area": null,
            "grid_auto_columns": null,
            "grid_auto_flow": null,
            "grid_auto_rows": null,
            "grid_column": null,
            "grid_gap": null,
            "grid_row": null,
            "grid_template_areas": null,
            "grid_template_columns": null,
            "grid_template_rows": null,
            "height": null,
            "justify_content": null,
            "justify_items": null,
            "left": null,
            "margin": null,
            "max_height": null,
            "max_width": null,
            "min_height": null,
            "min_width": null,
            "object_fit": null,
            "object_position": null,
            "order": null,
            "overflow": null,
            "overflow_x": null,
            "overflow_y": null,
            "padding": null,
            "right": null,
            "top": null,
            "visibility": null,
            "width": null
          }
        },
        "7bca0092c2e742e38987b654a29a2a3e": {
          "model_module": "@jupyter-widgets/controls",
          "model_name": "DescriptionStyleModel",
          "model_module_version": "1.5.0",
          "state": {
            "_model_module": "@jupyter-widgets/controls",
            "_model_module_version": "1.5.0",
            "_model_name": "DescriptionStyleModel",
            "_view_count": null,
            "_view_module": "@jupyter-widgets/base",
            "_view_module_version": "1.2.0",
            "_view_name": "StyleView",
            "description_width": ""
          }
        },
        "e1e55b09debb4ff498365cf62ad433f0": {
          "model_module": "@jupyter-widgets/controls",
          "model_name": "HBoxModel",
          "model_module_version": "1.5.0",
          "state": {
            "_dom_classes": [],
            "_model_module": "@jupyter-widgets/controls",
            "_model_module_version": "1.5.0",
            "_model_name": "HBoxModel",
            "_view_count": null,
            "_view_module": "@jupyter-widgets/controls",
            "_view_module_version": "1.5.0",
            "_view_name": "HBoxView",
            "box_style": "",
            "children": [
              "IPY_MODEL_f991e30fecd74b349b718058318c931e",
              "IPY_MODEL_333036329c4b4cbeae2b33db913baf03",
              "IPY_MODEL_b88ed3b331e2417681a08b9deab52845"
            ],
            "layout": "IPY_MODEL_bc8a89c7996b4124ba3dd365bf5f32e3"
          }
        },
        "f991e30fecd74b349b718058318c931e": {
          "model_module": "@jupyter-widgets/controls",
          "model_name": "HTMLModel",
          "model_module_version": "1.5.0",
          "state": {
            "_dom_classes": [],
            "_model_module": "@jupyter-widgets/controls",
            "_model_module_version": "1.5.0",
            "_model_name": "HTMLModel",
            "_view_count": null,
            "_view_module": "@jupyter-widgets/controls",
            "_view_module_version": "1.5.0",
            "_view_name": "HTMLView",
            "description": "",
            "description_tooltip": null,
            "layout": "IPY_MODEL_a9cc4fd1be9a4ddfaa0dc0f4b4c35eb7",
            "placeholder": "​",
            "style": "IPY_MODEL_5d63f8db7564480b8b850bab42f61e23",
            "value": ""
          }
        },
        "333036329c4b4cbeae2b33db913baf03": {
          "model_module": "@jupyter-widgets/controls",
          "model_name": "FloatProgressModel",
          "model_module_version": "1.5.0",
          "state": {
            "_dom_classes": [],
            "_model_module": "@jupyter-widgets/controls",
            "_model_module_version": "1.5.0",
            "_model_name": "FloatProgressModel",
            "_view_count": null,
            "_view_module": "@jupyter-widgets/controls",
            "_view_module_version": "1.5.0",
            "_view_name": "ProgressView",
            "bar_style": "success",
            "description": "",
            "description_tooltip": null,
            "layout": "IPY_MODEL_9a2fa63678054727bb0e817bb8d5bb83",
            "max": 4542,
            "min": 0,
            "orientation": "horizontal",
            "style": "IPY_MODEL_35cf0b16cc304f87ba2e05258d4085a4",
            "value": 4542
          }
        },
        "b88ed3b331e2417681a08b9deab52845": {
          "model_module": "@jupyter-widgets/controls",
          "model_name": "HTMLModel",
          "model_module_version": "1.5.0",
          "state": {
            "_dom_classes": [],
            "_model_module": "@jupyter-widgets/controls",
            "_model_module_version": "1.5.0",
            "_model_name": "HTMLModel",
            "_view_count": null,
            "_view_module": "@jupyter-widgets/controls",
            "_view_module_version": "1.5.0",
            "_view_name": "HTMLView",
            "description": "",
            "description_tooltip": null,
            "layout": "IPY_MODEL_25960405fa5944728ff9d74e00317a5e",
            "placeholder": "​",
            "style": "IPY_MODEL_674c165eb2314c99bb60395fa72ef224",
            "value": " 5120/? [00:00&lt;00:00, 158447.29it/s]"
          }
        },
        "bc8a89c7996b4124ba3dd365bf5f32e3": {
          "model_module": "@jupyter-widgets/base",
          "model_name": "LayoutModel",
          "model_module_version": "1.2.0",
          "state": {
            "_model_module": "@jupyter-widgets/base",
            "_model_module_version": "1.2.0",
            "_model_name": "LayoutModel",
            "_view_count": null,
            "_view_module": "@jupyter-widgets/base",
            "_view_module_version": "1.2.0",
            "_view_name": "LayoutView",
            "align_content": null,
            "align_items": null,
            "align_self": null,
            "border": null,
            "bottom": null,
            "display": null,
            "flex": null,
            "flex_flow": null,
            "grid_area": null,
            "grid_auto_columns": null,
            "grid_auto_flow": null,
            "grid_auto_rows": null,
            "grid_column": null,
            "grid_gap": null,
            "grid_row": null,
            "grid_template_areas": null,
            "grid_template_columns": null,
            "grid_template_rows": null,
            "height": null,
            "justify_content": null,
            "justify_items": null,
            "left": null,
            "margin": null,
            "max_height": null,
            "max_width": null,
            "min_height": null,
            "min_width": null,
            "object_fit": null,
            "object_position": null,
            "order": null,
            "overflow": null,
            "overflow_x": null,
            "overflow_y": null,
            "padding": null,
            "right": null,
            "top": null,
            "visibility": null,
            "width": null
          }
        },
        "a9cc4fd1be9a4ddfaa0dc0f4b4c35eb7": {
          "model_module": "@jupyter-widgets/base",
          "model_name": "LayoutModel",
          "model_module_version": "1.2.0",
          "state": {
            "_model_module": "@jupyter-widgets/base",
            "_model_module_version": "1.2.0",
            "_model_name": "LayoutModel",
            "_view_count": null,
            "_view_module": "@jupyter-widgets/base",
            "_view_module_version": "1.2.0",
            "_view_name": "LayoutView",
            "align_content": null,
            "align_items": null,
            "align_self": null,
            "border": null,
            "bottom": null,
            "display": null,
            "flex": null,
            "flex_flow": null,
            "grid_area": null,
            "grid_auto_columns": null,
            "grid_auto_flow": null,
            "grid_auto_rows": null,
            "grid_column": null,
            "grid_gap": null,
            "grid_row": null,
            "grid_template_areas": null,
            "grid_template_columns": null,
            "grid_template_rows": null,
            "height": null,
            "justify_content": null,
            "justify_items": null,
            "left": null,
            "margin": null,
            "max_height": null,
            "max_width": null,
            "min_height": null,
            "min_width": null,
            "object_fit": null,
            "object_position": null,
            "order": null,
            "overflow": null,
            "overflow_x": null,
            "overflow_y": null,
            "padding": null,
            "right": null,
            "top": null,
            "visibility": null,
            "width": null
          }
        },
        "5d63f8db7564480b8b850bab42f61e23": {
          "model_module": "@jupyter-widgets/controls",
          "model_name": "DescriptionStyleModel",
          "model_module_version": "1.5.0",
          "state": {
            "_model_module": "@jupyter-widgets/controls",
            "_model_module_version": "1.5.0",
            "_model_name": "DescriptionStyleModel",
            "_view_count": null,
            "_view_module": "@jupyter-widgets/base",
            "_view_module_version": "1.2.0",
            "_view_name": "StyleView",
            "description_width": ""
          }
        },
        "9a2fa63678054727bb0e817bb8d5bb83": {
          "model_module": "@jupyter-widgets/base",
          "model_name": "LayoutModel",
          "model_module_version": "1.2.0",
          "state": {
            "_model_module": "@jupyter-widgets/base",
            "_model_module_version": "1.2.0",
            "_model_name": "LayoutModel",
            "_view_count": null,
            "_view_module": "@jupyter-widgets/base",
            "_view_module_version": "1.2.0",
            "_view_name": "LayoutView",
            "align_content": null,
            "align_items": null,
            "align_self": null,
            "border": null,
            "bottom": null,
            "display": null,
            "flex": null,
            "flex_flow": null,
            "grid_area": null,
            "grid_auto_columns": null,
            "grid_auto_flow": null,
            "grid_auto_rows": null,
            "grid_column": null,
            "grid_gap": null,
            "grid_row": null,
            "grid_template_areas": null,
            "grid_template_columns": null,
            "grid_template_rows": null,
            "height": null,
            "justify_content": null,
            "justify_items": null,
            "left": null,
            "margin": null,
            "max_height": null,
            "max_width": null,
            "min_height": null,
            "min_width": null,
            "object_fit": null,
            "object_position": null,
            "order": null,
            "overflow": null,
            "overflow_x": null,
            "overflow_y": null,
            "padding": null,
            "right": null,
            "top": null,
            "visibility": null,
            "width": null
          }
        },
        "35cf0b16cc304f87ba2e05258d4085a4": {
          "model_module": "@jupyter-widgets/controls",
          "model_name": "ProgressStyleModel",
          "model_module_version": "1.5.0",
          "state": {
            "_model_module": "@jupyter-widgets/controls",
            "_model_module_version": "1.5.0",
            "_model_name": "ProgressStyleModel",
            "_view_count": null,
            "_view_module": "@jupyter-widgets/base",
            "_view_module_version": "1.2.0",
            "_view_name": "StyleView",
            "bar_color": null,
            "description_width": ""
          }
        },
        "25960405fa5944728ff9d74e00317a5e": {
          "model_module": "@jupyter-widgets/base",
          "model_name": "LayoutModel",
          "model_module_version": "1.2.0",
          "state": {
            "_model_module": "@jupyter-widgets/base",
            "_model_module_version": "1.2.0",
            "_model_name": "LayoutModel",
            "_view_count": null,
            "_view_module": "@jupyter-widgets/base",
            "_view_module_version": "1.2.0",
            "_view_name": "LayoutView",
            "align_content": null,
            "align_items": null,
            "align_self": null,
            "border": null,
            "bottom": null,
            "display": null,
            "flex": null,
            "flex_flow": null,
            "grid_area": null,
            "grid_auto_columns": null,
            "grid_auto_flow": null,
            "grid_auto_rows": null,
            "grid_column": null,
            "grid_gap": null,
            "grid_row": null,
            "grid_template_areas": null,
            "grid_template_columns": null,
            "grid_template_rows": null,
            "height": null,
            "justify_content": null,
            "justify_items": null,
            "left": null,
            "margin": null,
            "max_height": null,
            "max_width": null,
            "min_height": null,
            "min_width": null,
            "object_fit": null,
            "object_position": null,
            "order": null,
            "overflow": null,
            "overflow_x": null,
            "overflow_y": null,
            "padding": null,
            "right": null,
            "top": null,
            "visibility": null,
            "width": null
          }
        },
        "674c165eb2314c99bb60395fa72ef224": {
          "model_module": "@jupyter-widgets/controls",
          "model_name": "DescriptionStyleModel",
          "model_module_version": "1.5.0",
          "state": {
            "_model_module": "@jupyter-widgets/controls",
            "_model_module_version": "1.5.0",
            "_model_name": "DescriptionStyleModel",
            "_view_count": null,
            "_view_module": "@jupyter-widgets/base",
            "_view_module_version": "1.2.0",
            "_view_name": "StyleView",
            "description_width": ""
          }
        }
      }
    }
  },
  "cells": [
    {
      "cell_type": "markdown",
      "metadata": {
        "id": "view-in-github",
        "colab_type": "text"
      },
      "source": [
        "<a href=\"https://colab.research.google.com/github/GowthamInti/GowthamInti/blob/main/Ct_Reconstruction_with_model_parameters.ipynb\" target=\"_parent\"><img src=\"https://colab.research.google.com/assets/colab-badge.svg\" alt=\"Open In Colab\"/></a>"
      ]
    },
    {
      "cell_type": "code",
      "execution_count": null,
      "metadata": {
        "colab": {
          "base_uri": "https://localhost:8080/",
          "height": 452,
          "referenced_widgets": [
            "2bf51793decf4bfbb788e9317fb72aaf",
            "c7f218dd4392442abf831f5c306d3e5f",
            "2ab718ea6c1b452f9a9105b05ba2c4d3",
            "a0bc9e0192ac4a3ab5a628803f5bfd9e",
            "dce9cf544a4d4851bc4770d5bae6812c",
            "0f099fd36cca4d0491cb515dc59546ed",
            "a6dfdb252bb34cb29de3c500b87462a8",
            "ce1ebce5828d44e4bf251b5fabb84cc4",
            "d26031a58af3405a8692c967e51532a2",
            "b53f2fc42da74b119d0c90255c5596ee",
            "898b57a516404e96bdeb5ecb894e9558",
            "08002c06671a4d8c8a9922765d0d589a",
            "d6cf6b0a3aed49ba86758724cb0a37a2",
            "5c1c38bd29a741778af85a4a608cd222",
            "c074056b8f0e4ed3a2699fe94b764b26",
            "99d2aefc949749b9936e6cf6da975ef9",
            "018cbe94f63c4087b07b621607abb672",
            "c1915d15a8aa4135831768d0769c5095",
            "ad3abb6f759a4351a3fa26963ea765a8",
            "e6d0fbdc379e481b8d2815e923e9e138",
            "807aa9bb8c80440a9560f268bd1353e8",
            "82d7baaafb534df3a711c529be109b0c",
            "8d1f0321684641d8b930d9d828c55423",
            "e199f81dd494416b87364c854e0b9331",
            "122538d318444aceb537f96e16126f3e",
            "f3c491e8a1414504a310204dcbd3c2c1",
            "6f9d43f20cf4419ead67a5964732e354",
            "7a1520b05a5f497a9c41512df238f111",
            "26c44b01fb234a98a2c697e8339b4ae4",
            "913d6bb30ec347ad9fcc8bc0d329d89a",
            "4e189fb2e6fa4ed1990b10c9bfefb842",
            "6f3fc00e28214d33a8062213ac83e4e2",
            "7bca0092c2e742e38987b654a29a2a3e",
            "e1e55b09debb4ff498365cf62ad433f0",
            "f991e30fecd74b349b718058318c931e",
            "333036329c4b4cbeae2b33db913baf03",
            "b88ed3b331e2417681a08b9deab52845",
            "bc8a89c7996b4124ba3dd365bf5f32e3",
            "a9cc4fd1be9a4ddfaa0dc0f4b4c35eb7",
            "5d63f8db7564480b8b850bab42f61e23",
            "9a2fa63678054727bb0e817bb8d5bb83",
            "35cf0b16cc304f87ba2e05258d4085a4",
            "25960405fa5944728ff9d74e00317a5e",
            "674c165eb2314c99bb60395fa72ef224"
          ]
        },
        "id": "UnBETssz_qrW",
        "outputId": "bf0b20b0-32a0-4279-f5a2-a6ca9067ba81"
      },
      "outputs": [
        {
          "output_type": "stream",
          "name": "stdout",
          "text": [
            "Downloading http://yann.lecun.com/exdb/mnist/train-images-idx3-ubyte.gz\n",
            "Downloading http://yann.lecun.com/exdb/mnist/train-images-idx3-ubyte.gz to /content/Mnist/MNIST/raw/train-images-idx3-ubyte.gz\n"
          ]
        },
        {
          "output_type": "display_data",
          "data": {
            "text/plain": [
              "  0%|          | 0/9912422 [00:00<?, ?it/s]"
            ],
            "application/vnd.jupyter.widget-view+json": {
              "version_major": 2,
              "version_minor": 0,
              "model_id": "2bf51793decf4bfbb788e9317fb72aaf"
            }
          },
          "metadata": {}
        },
        {
          "output_type": "stream",
          "name": "stdout",
          "text": [
            "Extracting /content/Mnist/MNIST/raw/train-images-idx3-ubyte.gz to /content/Mnist/MNIST/raw\n",
            "\n",
            "Downloading http://yann.lecun.com/exdb/mnist/train-labels-idx1-ubyte.gz\n",
            "Downloading http://yann.lecun.com/exdb/mnist/train-labels-idx1-ubyte.gz to /content/Mnist/MNIST/raw/train-labels-idx1-ubyte.gz\n"
          ]
        },
        {
          "output_type": "display_data",
          "data": {
            "text/plain": [
              "  0%|          | 0/28881 [00:00<?, ?it/s]"
            ],
            "application/vnd.jupyter.widget-view+json": {
              "version_major": 2,
              "version_minor": 0,
              "model_id": "08002c06671a4d8c8a9922765d0d589a"
            }
          },
          "metadata": {}
        },
        {
          "output_type": "stream",
          "name": "stdout",
          "text": [
            "Extracting /content/Mnist/MNIST/raw/train-labels-idx1-ubyte.gz to /content/Mnist/MNIST/raw\n",
            "\n",
            "Downloading http://yann.lecun.com/exdb/mnist/t10k-images-idx3-ubyte.gz\n",
            "Downloading http://yann.lecun.com/exdb/mnist/t10k-images-idx3-ubyte.gz to /content/Mnist/MNIST/raw/t10k-images-idx3-ubyte.gz\n"
          ]
        },
        {
          "output_type": "display_data",
          "data": {
            "text/plain": [
              "  0%|          | 0/1648877 [00:00<?, ?it/s]"
            ],
            "application/vnd.jupyter.widget-view+json": {
              "version_major": 2,
              "version_minor": 0,
              "model_id": "8d1f0321684641d8b930d9d828c55423"
            }
          },
          "metadata": {}
        },
        {
          "output_type": "stream",
          "name": "stdout",
          "text": [
            "Extracting /content/Mnist/MNIST/raw/t10k-images-idx3-ubyte.gz to /content/Mnist/MNIST/raw\n",
            "\n",
            "Downloading http://yann.lecun.com/exdb/mnist/t10k-labels-idx1-ubyte.gz\n",
            "Downloading http://yann.lecun.com/exdb/mnist/t10k-labels-idx1-ubyte.gz to /content/Mnist/MNIST/raw/t10k-labels-idx1-ubyte.gz\n"
          ]
        },
        {
          "output_type": "display_data",
          "data": {
            "text/plain": [
              "  0%|          | 0/4542 [00:00<?, ?it/s]"
            ],
            "application/vnd.jupyter.widget-view+json": {
              "version_major": 2,
              "version_minor": 0,
              "model_id": "e1e55b09debb4ff498365cf62ad433f0"
            }
          },
          "metadata": {}
        },
        {
          "output_type": "stream",
          "name": "stdout",
          "text": [
            "Extracting /content/Mnist/MNIST/raw/t10k-labels-idx1-ubyte.gz to /content/Mnist/MNIST/raw\n",
            "\n"
          ]
        }
      ],
      "source": [
        "\n",
        "import torch\n",
        "import torch.nn as nn\n",
        "import torch.functional as F\n",
        "import torchvision.datasets as dset\n",
        "from torch.utils.data import Dataset, DataLoader\n",
        "import numpy as np\n",
        "from skimage.transform import radon,rescale,resize\n",
        "\n",
        "#import torchvision.transforms as transforms\n",
        "\n",
        "input_traindata = dset.MNIST( root=\"/content/Mnist\", train = True, transform = None,download= True) #Downloading data\n",
        "\n",
        "ny,nx = input_traindata.data[0].shape #storing image shape matrix in nx,ny\n",
        "input_traindata = input_traindata.data  # taking images\n",
        "DEVICE = 'cuda'\n"
      ]
    },
    {
      "cell_type": "code",
      "source": [
        "\n",
        "def getRadonMatrix(theta,ny,nx):\n",
        "    colum_of_A = radon(np.zeros((ny,nx)), theta=theta)  #  this is just to know the size of this\n",
        "    A = np.zeros((colum_of_A.size,nx*ny))\n",
        "    for i in range(ny):\n",
        "        for j in range(nx):\n",
        "            basis_vec = np.zeros((ny,nx))\n",
        "            basis_vec[i,j] = 1\n",
        "            colum_of_A = radon(basis_vec, theta=theta)\n",
        "            A[:,j+i*nx] = np.reshape(colum_of_A, colum_of_A.size)\n",
        "            \n",
        "    return A"
      ],
      "metadata": {
        "id": "2phwGstR_yLX"
      },
      "execution_count": null,
      "outputs": []
    },
    {
      "cell_type": "code",
      "source": [
        "class SinogramDataset(Dataset):\n",
        "    def __init__(self,image_data,A,theta,noise_level):  #Custom dataset taking Imagedataset ,theta,noise_level and genrate a dataset\n",
        "        self.image_data =image_data\n",
        "        self.noise_level = noise_level\n",
        "        self.A = A\n",
        "        self.theta =theta\n",
        "    def __len__(self):\n",
        "        return len(self.image_data)\n",
        "\n",
        "    def __getitem__(self,idx):\n",
        "        label = self.image_data[idx].double()/255\n",
        "        ny,nx = self.image_data[idx].shape\n",
        "        vec_img = torch.reshape(self.image_data[idx],(1,ny*nx)).double()/255# genearating Vec_image\n",
        "        sinogram = vec_img@self.A.T\n",
        "        sinogram = torch.reshape(sinogram, (len(theta),ny)) # genarating Vec_sinogram_image from radonmatrix and reshaping into 2d \n",
        "        sinogram_noisy = sinogram + self.noise_level*torch.randn(sinogram.shape) #Adding Noise to the image \n",
        "        return sinogram_noisy,label"
      ],
      "metadata": {
        "id": "DQFeG5l3_02J"
      },
      "execution_count": null,
      "outputs": []
    },
    {
      "cell_type": "code",
      "source": [
        "theta = np.linspace(0.,180.,26, endpoint=False)  # theta values\n",
        "A = torch.from_numpy(getRadonMatrix(theta,ny,nx))  # generating A matrix \n",
        "trainset =SinogramDataset(input_traindata,A,theta,0.1) # genarating a train_dataset\n",
        "print(A.shape)\n",
        "\n",
        "pseudo_inverse_of_A = torch.from_numpy(np.linalg.pinv(A))\n",
        "print(pseudo_inverse_of_A.shape)\n",
        "A = A.to(DEVICE)\n",
        "pseudo_inverse_of_A = pseudo_inverse_of_A.to(DEVICE)"
      ],
      "metadata": {
        "colab": {
          "base_uri": "https://localhost:8080/"
        },
        "id": "DiVggSKn_3EG",
        "outputId": "dd67f105-0f41-48bc-8359-bd6d011f9c4a"
      },
      "execution_count": null,
      "outputs": [
        {
          "output_type": "stream",
          "name": "stderr",
          "text": [
            "/usr/local/lib/python3.7/dist-packages/skimage/transform/radon_transform.py:83: UserWarning: Radon transform: image must be zero outside the reconstruction circle\n",
            "  warn('Radon transform: image must be zero outside the '\n"
          ]
        },
        {
          "output_type": "stream",
          "name": "stdout",
          "text": [
            "torch.Size([728, 784])\n",
            "torch.Size([784, 728])\n"
          ]
        }
      ]
    },
    {
      "cell_type": "code",
      "source": [
        "sinogram_noisy, label = trainset[7]\n",
        "print(sinogram_noisy.shape)\n",
        "import matplotlib.pyplot as plt\n",
        "\n",
        "f, (ax1, ax2) = plt.subplots(1, 2, figsize=(10,5))\n",
        "        \n",
        "ax1.set_title('IMAGE')\n",
        "ax1.imshow(torch.reshape(sinogram_noisy,(len(theta),ny)),cmap ='gray')\n",
        "\n",
        "ax2.set_title('GROUND TRUTH')\n",
        "ax2.imshow(label,cmap = 'gray')"
      ],
      "metadata": {
        "colab": {
          "base_uri": "https://localhost:8080/",
          "height": 354
        },
        "id": "VSa3MzNR_5fJ",
        "outputId": "e43dd8ca-09bd-4fcf-cf28-09ae34460f57"
      },
      "execution_count": null,
      "outputs": [
        {
          "output_type": "stream",
          "name": "stdout",
          "text": [
            "torch.Size([26, 28])\n"
          ]
        },
        {
          "output_type": "execute_result",
          "data": {
            "text/plain": [
              "<matplotlib.image.AxesImage at 0x7fa68c3b4850>"
            ]
          },
          "metadata": {},
          "execution_count": 5
        },
        {
          "output_type": "display_data",
          "data": {
            "text/plain": [
              "<Figure size 720x360 with 2 Axes>"
            ],
            "image/png": "[encoded data removed]"
          },
          "metadata": {
            "needs_background": "light"
          }
        }
      ]
    },
    {
      "cell_type": "code",
      "source": [
        "trainloader = DataLoader(trainset, batch_size=60, shuffle=True)\n",
        "batch_size=60\n"
      ],
      "metadata": {
        "id": "WMC1hTNS_7fs"
      },
      "execution_count": null,
      "outputs": []
    },
    {
      "cell_type": "code",
      "source": [
        "class PrimalDualNetwork(nn.Module):\n",
        "    def __init__(self):\n",
        "        super(PrimalDualNetwork,self).__init__()\n",
        "        hidden = 4\n",
        "#        self.fc1 = nn.Linear(A.size()[1], hidden)\n",
        "        self.conv1image = nn.Conv2d(1, hidden, 3, padding=1)\n",
        "        self.conv2image = nn.Conv2d(hidden,1, 3, padding=1)\n",
        "        self.conv1sino = nn.Conv2d(1, hidden, 3, padding=1)\n",
        "        self.conv2sino = nn.Conv2d(hidden,1, 3, padding=1)\n",
        "#        self.fc2 = nn.Linear(hidden, A.size()[1])\n",
        "        \n",
        "        \n",
        "    def forward(self, sinogram,inv_A,maxiter,tau,A):   \n",
        "        # A needs to be of dimension: (sinogram_dimension x image_pixels)\n",
        "        # sinogram will be of dimension: (number_of_examples (batchsize)  x  sinogram_dimension)\n",
        "        b_size,sino_x,sino_y = sinogram.shape\n",
        "        #print(b_size,sino_x,sino_y)\n",
        "        sinogram = torch.reshape(sinogram, (b_size,sino_x*sino_y))\n",
        "        #print(sinogram.shape)\n",
        "        output =  sinogram @ inv_A.T\n",
        "        #print(output.shape)\n",
        "\n",
        "        for i in range(maxiter):\n",
        "            # possible here: Design a small sinogramCNN on err!\n",
        "            err = output@A.T - sinogram  # calculating error between image generated from sinogram on applying Pseudo inverse and sinogram\n",
        "            #print(err.shape)\n",
        "            err = torch.reshape(err,(b_size,1,sino_x,sino_y))\n",
        "            \n",
        "            err = self.conv2sino(nn.functional.relu(self.conv1sino(err))) #sending the error through convolution network\n",
        "            err = torch.reshape(err,(b_size,sino_x*sino_y))\n",
        "            #print(err.shape)\n",
        "            intermediateOutput = output - tau * err@ A  #calculating intermediate image from differencing output from  image generated on error \n",
        "            #print(intermediateOutput.shape)\n",
        "            intermediateOutput = torch.reshape(intermediateOutput,(b_size,1,sino_y,sino_y))\n",
        "           \n",
        "            output = self.conv2image(nn.functional.relu(self.conv1image(intermediateOutput)))\n",
        "            output = torch.reshape(output,(b_size,sino_y*sino_y))\n",
        "            #print(output.shape)\n",
        "            # in the above notation imageSpaceCNN = self.conv2(nn.functional.relu(self.conv1( * )))\n",
        "        output = torch.reshape(output,(b_size,sino_y,sino_y))\n",
        "    \n",
        "        return output \n",
        "        "
      ],
      "metadata": {
        "id": "vF3wHbc9_-GZ"
      },
      "execution_count": null,
      "outputs": []
    },
    {
      "cell_type": "code",
      "source": [
        "def train_fn(data_loader, model, optimizer):\n",
        "  model.train()\n",
        "  model = model.double()\n",
        "  criterion = nn.MSELoss()\n",
        "\n",
        "  for i,ele in enumerate(trainloader):\n",
        "      batch_input,batch_output = ele\n",
        "      batch_input = batch_input.to(DEVICE)\n",
        "      batch_output = batch_output.to(DEVICE)\n",
        "      prediction = model(batch_input,pseudo_inverse_of_A,5,0.01,A)\n",
        "      optimizer.zero_grad()\n",
        "      loss = criterion(prediction, batch_output)\n",
        "      loss.backward()\n",
        "      optimizer.step()\n",
        "      \n",
        "  return loss"
      ],
      "metadata": {
        "id": "WalYC_K7ABGY"
      },
      "execution_count": null,
      "outputs": []
    },
    {
      "cell_type": "code",
      "source": [
        "model = PrimalDualNetwork()\n",
        "model = model.to(DEVICE)\n",
        "optimizer = torch.optim.SGD(model.parameters(), lr=0.001, momentum=0.9)\n",
        "\n",
        "number_of_epochs = 10\n",
        "for epoch in range(number_of_epochs):\n",
        "  train_loss = train_fn(trainloader, model, optimizer)\n",
        "  \n",
        "    \n",
        "  if epoch%1==0:\n",
        "    print(f\"Epoch :{epoch+1} Train_loss : {train_loss}\" )"
      ],
      "metadata": {
        "colab": {
          "base_uri": "https://localhost:8080/"
        },
        "id": "cI39fP_3M85K",
        "outputId": "9da01316-fb6a-441d-c209-91dc52339852"
      },
      "execution_count": null,
      "outputs": [
        {
          "output_type": "stream",
          "name": "stdout",
          "text": [
            "Epoch :1 Train_loss : 0.08046604709177786\n",
            "Epoch :2 Train_loss : 0.03566075057649411\n",
            "Epoch :3 Train_loss : 0.01842665469248442\n",
            "Epoch :4 Train_loss : 0.01407700046649719\n",
            "Epoch :5 Train_loss : 0.011370084718766304\n",
            "Epoch :6 Train_loss : 0.009797334716658794\n",
            "Epoch :7 Train_loss : 0.007965920628574805\n",
            "Epoch :8 Train_loss : 0.006530952315458817\n",
            "Epoch :9 Train_loss : 0.006326549455570187\n",
            "Epoch :10 Train_loss : 0.005427962601628394\n"
          ]
        }
      ]
    },
    {
      "cell_type": "code",
      "source": [
        "sinogram_noisy, label = trainset[7]\n",
        "\n",
        "sinogram_noisy = torch.reshape(sinogram_noisy,(1,sinogram_noisy.shape))\n",
        "sinogram_noisy = sinogram_noisy.to(DEVICE)\n",
        "label = label.to(DEVICE)\n",
        "prediction = model(sinogram_noisy,pseudo_inverse_of_A,5,0.01,A)\n",
        "#print(prediction.shape)\n",
        "\n",
        "f, (ax1, ax2) = plt.subplots(1, 2, figsize=(10,5))\n",
        "        \n",
        "ax1.set_title('IMAGE')\n",
        "ax1.imshow(torch.reshape(prediction,(nx,ny)).cpu().detach().numpy(),cmap ='gray')\n",
        "\n",
        "ax2.set_title('GROUND TRUTH')\n",
        "ax2.imshow(label.cpu(),cmap = 'gray')\n",
        "      "
      ],
      "metadata": {
        "colab": {
          "base_uri": "https://localhost:8080/",
          "height": 336
        },
        "id": "wWAfqTDaL2p8",
        "outputId": "7727edef-d164-413d-be47-059bec54d265"
      },
      "execution_count": null,
      "outputs": [
        {
          "output_type": "execute_result",
          "data": {
            "text/plain": [
              "<matplotlib.image.AxesImage at 0x7fa618f9d7d0>"
            ]
          },
          "metadata": {},
          "execution_count": 47
        },
        {
          "output_type": "display_data",
          "data": {
            "text/plain": [
              "<Figure size 720x360 with 2 Axes>"
            ],
            "image/png": "[encoded data removed]"
          },
          "metadata": {
            "needs_background": "light"
          }
        }
      ]
    },
    {
      "cell_type": "code",
      "source": [
        "def eval_fn(data_loader, model, optimizer):\n",
        "  model.eval()\n",
        "  total_loss = 0.0\n",
        "  criterion = nn.MSELoss()\n",
        "\n",
        "  with torch.no_grad():\n",
        "     for i,ele in enumerate(trainloader):\n",
        "        batch_input,batch_output = ele\n",
        "        batch_input = batch_input.to(DEVICE)\n",
        "        batch_output = batch_output.to(DEVICE)\n",
        "        prediction = model(batch_input,pseudo_inverse_of_A,5,0.01,A)\n",
        "        loss = criterion(prediction, batch_output)\n",
        "        total_loss+=loss\n",
        "     print(f\"Valid loss : { loss }\")"
      ],
      "metadata": {
        "id": "23okWQWQL9gd"
      },
      "execution_count": null,
      "outputs": []
    },
    {
      "cell_type": "code",
      "source": [
        "input_testdata = dset.MNIST( root=\"/content/Mnist\",train =False, transform = None,download= True) #Downloading data\n",
        "input_testdata = input_testdata.data  # taking images\n",
        "testset =SinogramDataset(input_testdata,A,theta,0.1)\n",
        "testloader = DataLoader(testset, batch_size=60, shuffle=True)\n"
      ],
      "metadata": {
        "id": "IstOLVgkL_v5"
      },
      "execution_count": null,
      "outputs": []
    },
    {
      "cell_type": "code",
      "source": [
        ""
      ],
      "metadata": {
        "id": "Mw-IcEopBFcv"
      },
      "execution_count": null,
      "outputs": []
    },
    {
      "cell_type": "code",
      "source": [
        "test_loss = eval_fn(testloader, model, optimizer)"
      ],
      "metadata": {
        "colab": {
          "base_uri": "https://localhost:8080/"
        },
        "id": "P1dHuodrNHJM",
        "outputId": "215fd3aa-1d5e-4a42-956a-5fd1e524b8b9"
      },
      "execution_count": null,
      "outputs": [
        {
          "output_type": "stream",
          "name": "stdout",
          "text": [
            "Valid loss : 0.005710322884362014\n"
          ]
        }
      ]
    },
    {
      "cell_type": "markdown",
      "source": [
        "#Model Complete"
      ],
      "metadata": {
        "id": "7hkPoNdyOqJO"
      }
    },
    {
      "cell_type": "code",
      "source": [
        "torch.save(model.state_dict,'/content/Savedmodel/Model_with_self_learning')"
      ],
      "metadata": {
        "id": "ypUbXr3vOuse"
      },
      "execution_count": null,
      "outputs": []
    }
  ]
}